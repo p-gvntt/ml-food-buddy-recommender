{
 "cells": [
  {
   "cell_type": "code",
   "execution_count": 60,
   "id": "059c8a27",
   "metadata": {},
   "outputs": [],
   "source": [
    "import sys\n",
    "from pathlib import Path\n",
    "import pandas as pd\n",
    "import numpy as np\n",
    "from IPython.display import display, HTML\n",
    "\n",
    "# Add project root to sys.path to import src\n",
    "project_root = Path.cwd().parent \n",
    "sys.path.append(str(project_root))\n",
    "\n",
    "# Now we can import our functions\n",
    "from src.recommender import load_artifacts, recommend\n",
    "from src.preprocessing import preprocess_and_save\n",
    "from src.vectorizer import train_and_save_vectorizer"
   ]
  },
  {
   "cell_type": "markdown",
   "id": "51df363d",
   "metadata": {},
   "source": [
    "Data Preparation"
   ]
  },
  {
   "cell_type": "code",
   "execution_count": 63,
   "id": "28e3334d",
   "metadata": {},
   "outputs": [
    {
     "name": "stdout",
     "output_type": "stream",
     "text": [
      "⚙️ Preprocessing data...\n",
      "✅ Preprocessed data saved to /Users/paologiovanetti/Desktop/GitHub/Repositories/ml-food-buddy-recommender/data/preprocessed/final_recipes.csv.gzip\n",
      "\n",
      "⚙️ Training vectorizer...\n",
      "✅ Vectorizer saved to /Users/paologiovanetti/Desktop/GitHub/Repositories/ml-food-buddy-recommender/models/tfidf_vectorizer.pkl\n",
      "✅ Recipe vectors saved to /Users/paologiovanetti/Desktop/GitHub/Repositories/ml-food-buddy-recommender/models/recipe_vectors.npy\n"
     ]
    }
   ],
   "source": [
    "print(\"⚙️ Preprocessing data...\")\n",
    "preprocess_and_save()  # Creates preprocessed data\n",
    "\n",
    "print(\"\\n⚙️ Training vectorizer...\")\n",
    "train_and_save_vectorizer()  # Creates TF-IDF model"
   ]
  },
  {
   "cell_type": "code",
   "execution_count": 64,
   "id": "2d15988f",
   "metadata": {},
   "outputs": [
    {
     "name": "stdout",
     "output_type": "stream",
     "text": [
      "\n",
      "🔮 Loading recommendation artifacts...\n",
      "Loaded 522512 recipes!\n"
     ]
    }
   ],
   "source": [
    "print(\"\\n🔮 Loading recommendation artifacts...\")\n",
    "df, vectorizer, vectors = load_artifacts()\n",
    "print(f\"Loaded {len(df)} recipes!\")"
   ]
  },
  {
   "cell_type": "markdown",
   "id": "f50b2772",
   "metadata": {},
   "source": [
    "Load the Recommendation System"
   ]
  },
  {
   "cell_type": "code",
   "execution_count": 65,
   "id": "fac42027",
   "metadata": {},
   "outputs": [
    {
     "name": "stdout",
     "output_type": "stream",
     "text": [
      "\n",
      "🔮 Loading recommendation artifacts...\n",
      "Loaded 522512 recipes!\n"
     ]
    }
   ],
   "source": [
    "print(\"\\n🔮 Loading recommendation artifacts...\")\n",
    "df, vectorizer, vectors = load_artifacts()\n",
    "print(f\"Loaded {len(df)} recipes!\")"
   ]
  },
  {
   "cell_type": "markdown",
   "id": "3dd4e8a6",
   "metadata": {},
   "source": [
    "Interactive Demo"
   ]
  },
  {
   "cell_type": "code",
   "execution_count": 72,
   "id": "5b37f115",
   "metadata": {},
   "outputs": [],
   "source": [
    "def interactive_demo():\n",
    "    print(\"\\n🍳 ML Food Buddy Recommender\")\n",
    "    print(\"Type ingredients you like (e.g. 'italian pasta')\") \n",
    "    \n",
    "    # Get user input\n",
    "    query = input(\"\\nWhat would you like to cook? > \").strip()\n",
    "    if query.lower() in ['quit', 'exit']:\n",
    "        print(\"Goodbye!\")\n",
    "        return\n",
    "\n",
    "    # Get filters\n",
    "    time_filter = input(\"Time preference? [fast/medium/long/any] > \").strip().lower() \n",
    "    calorie_filter = input(\"Calorie preference? [low/medium/high/any] > \").strip().lower() \n",
    "\n",
    "    # Clean filters\n",
    "    time_filter = None if time_filter == 'any' else time_filter\n",
    "    calorie_filter = None if calorie_filter == 'any' else calorie_filter\n",
    "\n",
    "    print(f\"\\nProcessing your request: '{query}' \"\n",
    "          f\"with time='{time_filter}' and calories='{calorie_filter}'...\") \n",
    "\n",
    "    # Get recommendations\n",
    "    results = recommend(\n",
    "        user_prefs=query,\n",
    "        dataset=df,\n",
    "        recipe_vectors_matrix=vectors,\n",
    "        vectorizer=vectorizer,\n",
    "        time_pref=time_filter,\n",
    "        calorie_pref=calorie_filter,\n",
    "        top_n=3,\n",
    "        return_columns=[\"Name\", \"Image_first\", \"TotalTime_str\", \n",
    "                        \"recipe_instructions_clean\", \"Calories\", \"similarity\"]\n",
    "    )\n",
    "\n",
    "    # Display results\n",
    "    if 'message' in results.columns:\n",
    "        print(f\"\\n❌ {results['message'].iloc[0]}\") \n",
    "    else:\n",
    "        print(\"\\n✨ Recommended Recipes:\") \n",
    "        for i, row in results.iterrows():\n",
    "            print(f\"\\n{i+1}. {row['Name']}\") \n",
    "            print(f\"   ⏱ {row['TotalTime_str']} | 🔥 {int(row['Calories'])} calories\")\n",
    "            print(f\"   🖼 {row['Image_first']}\")\n",
    "            print(f\"   📜 Instructions: {row['recipe_instructions_clean']}\")\n",
    "            print(f\"   🔍 Match score: {row['similarity']:.2f}\")"
   ]
  },
  {
   "cell_type": "code",
   "execution_count": 76,
   "id": "e8c7bb4e",
   "metadata": {},
   "outputs": [
    {
     "name": "stdout",
     "output_type": "stream",
     "text": [
      "\n",
      "🍳 ML Food Buddy Recommender\n",
      "Type ingredients you like (e.g. 'italian pasta')\n",
      "\n",
      "Processing your request: 'pasta with eggs' with time='None' and calories='None'...\n",
      "\n",
      "✨ Recommended Recipes:\n",
      "\n",
      "4950. Pasta with Garlic and Eggs\n",
      "   ⏱ 30 minutes | 🔥 453 calories\n",
      "   🖼 https://img.sndimg.com/food/image/upload/w_555,h_416,c_fit,fl_progressive,q_95/v1/img/recipes/78/50/picFK0mFe.jpg\n",
      "   📜 Instructions: Cook pasta. Heat the oil in small frying pan, add garlic. Saute for just a moment. Drain pasta, toss all ingredients together. Salt and pepper to taste.\n",
      "   🔍 Match score: 0.61\n",
      "\n",
      "38914. Easy pasta\n",
      "   ⏱ 9 minutes | 🔥 319 calories\n",
      "   🖼 nan\n",
      "   📜 Instructions: Fill a pan about 3/4 of the way with water. Boil the water. Put in pasta (I like to leave whatever wont fit sticking out and push it in when the rest is soft so you get long pasta.) Cook until tender. Drain. put back in pan or put in bow. pour sauce over pasta. stir. eat!\n",
      "   🔍 Match score: 0.61\n",
      "\n",
      "393308. Pasta Salad\n",
      "   ⏱ 45 minutes | 🔥 439 calories\n",
      "   🖼 nan\n",
      "   📜 Instructions: Cook pasta. Put frozen peas in a collander. Drain the cooked pasta over the frozen peas. Transfer to a storage container. Toss pasta and peas with ham and dressing. Chill for several hours before serving. Toss again before serving.\n",
      "   🔍 Match score: 0.57\n"
     ]
    }
   ],
   "source": [
    "# Run the demo\n",
    "interactive_demo()"
   ]
  }
 ],
 "metadata": {
  "kernelspec": {
   "display_name": "venv",
   "language": "python",
   "name": "python3"
  },
  "language_info": {
   "codemirror_mode": {
    "name": "ipython",
    "version": 3
   },
   "file_extension": ".py",
   "mimetype": "text/x-python",
   "name": "python",
   "nbconvert_exporter": "python",
   "pygments_lexer": "ipython3",
   "version": "3.13.5"
  }
 },
 "nbformat": 4,
 "nbformat_minor": 5
}
